{
 "cells": [
  {
   "cell_type": "code",
   "execution_count": 1,
   "id": "9e424249",
   "metadata": {},
   "outputs": [],
   "source": [
    "import numpy as np\n",
    "import pendulum\n",
    "epsilon = 0.1\n",
    "N = 100\n",
    "alpha = 0.1\n",
    "step_size = pendulum.DELTA_T"
   ]
  }
 ],
 "metadata": {
  "kernelspec": {
   "display_name": "Python 3 (ipykernel)",
   "language": "python",
   "name": "python3"
  },
  "language_info": {
   "codemirror_mode": {
    "name": "ipython",
    "version": 3
   },
   "file_extension": ".py",
   "mimetype": "text/x-python",
   "name": "python",
   "nbconvert_exporter": "python",
   "pygments_lexer": "ipython3",
   "version": "3.9.12"
  }
 },
 "nbformat": 4,
 "nbformat_minor": 5
}
